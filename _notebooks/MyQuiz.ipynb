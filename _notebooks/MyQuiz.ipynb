{
 "cells": [
  {
   "cell_type": "markdown",
   "metadata": {},
   "source": [
    "# Welcome to Aditya Samavedam's notebook on creating a quiz !!"
   ]
  },
  {
   "cell_type": "markdown",
   "metadata": {},
   "source": [
    "### What I am going to use to create my quiz:\n",
    "`print()`, \n",
    "`import`, \n",
    "`def()`, \n",
    "`if`, \n",
    "`else`, \n",
    "`while`, \n",
    "`for`"
   ]
  },
  {
   "cell_type": "markdown",
   "metadata": {},
   "source": [
    "### First, let's start by importing the `getpass` and `sys` libraries.\n",
    "##### There are two functions that we are going to use: `getpass.getuser()` and `sys.executable`.\n",
    "##### `getpass.getuser()` prints the user's name.\n",
    "##### `sys.executable` prints the path to the Python interpreter. "
   ]
  },
  {
   "cell_type": "code",
   "execution_count": 21,
   "metadata": {},
   "outputs": [
    {
     "name": "stdout",
     "output_type": "stream",
     "text": [
      "Hello, aditya running /bin/python\n",
      "You will be asked 3 questions.\n",
      "Awesome! Let's begin.\n",
      "You answered monkey.\n",
      "You are incorrect! The answer is import.\n",
      "You answered if.\n",
      "You are correct!\n",
      "You answered expression.\n",
      "You are correct!\n",
      "aditya you scored 2 / 3, which is a 66.67%.\n"
     ]
    }
   ],
   "source": [
    "import getpass, sys\n",
    "\n",
    "questions = 3\n",
    "correct = 0\n",
    "\n",
    "qsandas_dict = {\n",
    "    \"What command is used to include other functions that were previously developed?\" : \"import\",\n",
    "    \"What command is used to evaluate correct or incorrect response in this example?\" : \"if\",\n",
    "    \"Each 'if' command contains an '_________' to determine a true or false condition?\" : \"expression\"\n",
    "}\n",
    "\n",
    "print(f\"Hello, {getpass.getuser()} running {sys.executable}\")\n",
    "print(f\"You will be asked {questions} questions.\")\n",
    "readyornot = input(\"Are you ready to take a test? \")\n",
    "if readyornot == \"yes\" or readyornot == \"Yes\":\n",
    "    print(\"Awesome! Let's begin.\")\n",
    "    \n",
    "    for question in qsandas_dict:\n",
    "        answer = input(question)\n",
    "        print(f\"You answered {answer}.\")\n",
    "        \n",
    "        if answer == qsandas_dict[question]:\n",
    "            print(\"You are correct!\")\n",
    "            correct += 1\n",
    "            \n",
    "        else:\n",
    "            print(f\"You are incorrect! The answer is {qsandas_dict[question]}.\")\n",
    "            \n",
    "    score = (correct/questions) * 100\n",
    "    \n",
    "    print(f\"{getpass.getuser()} you scored {correct} / {questions}, which is a {score:.2f}%.\")\n",
    "    \n",
    "elif readyornot == \"no\" or readyornot == \"No\":\n",
    "    print(\"No problem! Come back when you're ready!\")\n",
    "else:\n",
    "    print(\"Invalid response. Please try again.\")\n"
   ]
  },
  {
   "cell_type": "markdown",
   "metadata": {},
   "source": [
    "##### First, let's start by importing the `sys` and `getpass` libraries."
   ]
  },
  {
   "cell_type": "code",
   "execution_count": 1,
   "metadata": {},
   "outputs": [],
   "source": [
    "import sys\n",
    "import getpass"
   ]
  },
  {
   "cell_type": "markdown",
   "metadata": {},
   "source": [
    "##### Next, let's create a dictionary that contains our questions and answers. The keys are our questions and the values are our answers. Let's also assign the number of questions to a variable, and number of correct answers to another variable."
   ]
  },
  {
   "cell_type": "code",
   "execution_count": null,
   "metadata": {},
   "outputs": [],
   "source": [
    "qsandas_dict = {\n",
    "    \"What command is used to include other functions that were previously developed?\" : \"import\",\n",
    "    \"What command is used to evaluate correct or incorrect response in this example?\" : \"if\",\n",
    "    \"Each 'if' command contains an '_________' to determine a true or false condition?\" : \"expression\"\n",
    "}"
   ]
  }
 ],
 "metadata": {
  "kernelspec": {
   "display_name": "Python 3",
   "language": "python",
   "name": "python3"
  },
  "language_info": {
   "codemirror_mode": {
    "name": "ipython",
    "version": 3
   },
   "file_extension": ".py",
   "mimetype": "text/x-python",
   "name": "python",
   "nbconvert_exporter": "python",
   "pygments_lexer": "ipython3",
   "version": "3.10.12"
  },
  "orig_nbformat": 4
 },
 "nbformat": 4,
 "nbformat_minor": 2
}
