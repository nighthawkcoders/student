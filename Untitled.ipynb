{
 "cells": [
  {
   "cell_type": "markdown",
   "id": "1eecda94",
   "metadata": {},
   "source": [
    "---\n",
    "toc: true\n",
    "layout: default\n",
    "title: My Science Olympiad Journey so far\n",
    "description: Blog about Science Olympiad\n",
    "remote_theme: pages-themes/modernist@v0.2.0\n",
    "---\n",
    "\n",
    "## What is Science Olympiad?\n",
    "Science Olympiad is a competition between teams from different middle schools and high schools. It includes physical science, earth science, life science, chemistry, environmental science and forestry. Build events and study events are both included. \n",
    "\n",
    "## My Journey up to now\n",
    "I started Science Olympiad in seventh grade. However, I got eliminated from all of my events and didn't make the team. Next year, I tried harder and made the regional team. We went on to compete in the regional competition for Southern California. This was all during the pandemic and we had all the competitions online. During my freshman year, we had satellite competitions in which the competition was still held online, but we were physically doing the competition at the school site.\n",
    "\n",
    "## My tenth grade year\n",
    "During my tenth grade year, however, we did Regionals physically. Del Norte came in second after several years!\n",
    "\n",
    "## What it has taught me\n",
    "Participating in Science Olympiad has taught me how to work with others. I learned new stuff and how to work hard and plan. I feel overjoyed when I make the team and win a medal every year!! The medal makes it worth all the hard work."
   ]
  },
  {
   "cell_type": "code",
   "execution_count": null,
   "id": "6348b5bf",
   "metadata": {},
   "outputs": [],
   "source": []
  }
 ],
 "metadata": {
  "kernelspec": {
   "display_name": "Python 3 (ipykernel)",
   "language": "python",
   "name": "python3"
  },
  "language_info": {
   "codemirror_mode": {
    "name": "ipython",
    "version": 3
   },
   "file_extension": ".py",
   "mimetype": "text/x-python",
   "name": "python",
   "nbconvert_exporter": "python",
   "pygments_lexer": "ipython3",
   "version": "3.10.12"
  }
 },
 "nbformat": 4,
 "nbformat_minor": 5
}
